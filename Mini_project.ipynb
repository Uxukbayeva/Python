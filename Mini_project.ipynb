{
 "cells": [
  {
   "cell_type": "code",
   "execution_count": 65,
   "id": "7041843d-be20-46e5-84f8-2c9937580f91",
   "metadata": {},
   "outputs": [],
   "source": [
    "#1\n",
    "# Прочитать этот файл построчно. Пожалуйста, используйте для этого try catch. \n",
    "# Если файл не найден, напечатайте следующий текст: «the file that you would like to read is not found». \n",
    "# Для любых других ошибок, пожалуйста, напечатайте следующее сообщение: \"some error occured\""
   ]
  },
  {
   "cell_type": "code",
   "execution_count": 114,
   "id": "5db28583-9784-47ff-ab81-b4a1779d7e2e",
   "metadata": {},
   "outputs": [
    {
     "name": "stdout",
     "output_type": "stream",
     "text": [
      "1,Magzhan,Kairanbay,magzhan.kairanbay@gmail.com,1991\n",
      "\n",
      "2,John,See,john.see@gmail.com,1981\n",
      "\n",
      "3,Lim,Kim,lim.kim@gmail.com,1997\n",
      "\n",
      "4,Andrew,Ng,andrew.ng@gmail.com,1971\n",
      "\n",
      "5,Andrey,Karpathy,andrey.karpathy@gmail.com,1981\n",
      "\n",
      "6,Jackie,Chan,jeckie.chan@gmail.com,1951\n",
      "\n",
      "7,Clarence,Lim,clarence.lim@gmail.com,1985\n",
      "\n",
      "8,Ryan,Jack,ryan.jack@gmail.com,1994\n",
      "\n",
      "9,Jonattan,Clark,jonattan.clark@gmail.com,2000\n",
      "\n",
      "10,Chris,Brown,chris.brown@gmail.com,1989\n",
      "\n",
      "11,Justin,Bieber,justin.bieber@gmail.com,1992\n"
     ]
    }
   ],
   "source": [
    "try:\n",
    "    with open(\"Users.txt\", 'r') as file:\n",
    "        for line in file:\n",
    "            print(line)\n",
    "except FileNotFoundError:\n",
    "    print(\"The file that you would like to read is not found\")\n",
    "except SyntaxError:\n",
    "    print(\"Some error occurred\")"
   ]
  },
  {
   "cell_type": "code",
   "execution_count": null,
   "id": "bc9f9dbe-04e3-41fc-83b8-eda4f02c3949",
   "metadata": {},
   "outputs": [],
   "source": [
    "#2 \n",
    "# Создайте класс Users со следующими атрибутами и функциями:\n",
    "# a) имя\n",
    "# b) фамилия\n",
    "# c) год рождения\n",
    "# d) адрес электронной почты\n",
    "# e) getAge(): возвращает возраст пользователя, принимая во внимание, что текущий год 2023"
   ]
  },
  {
   "cell_type": "code",
   "execution_count": 111,
   "id": "ddc7597f-d722-4fa9-bdd0-0f5d9ff2ac0f",
   "metadata": {},
   "outputs": [],
   "source": [
    "class Users:\n",
    "    current_date = 2025 \n",
    "    \n",
    "    def __init__(self, name, second_name, mail, birthdate):\n",
    "        self.name = name\n",
    "        self.second_name = second_name        \n",
    "        self.mail = mail\n",
    "        self.birthdate = int(birthdate)\n",
    "\n",
    "    def get_age(self):\n",
    "        return self.current_date - self.birthdate\n",
    "\n",
    "    def __str__(self):        \n",
    "        return f\"{self.name} {self.second_name}, {self.mail}, {self.birthdate}\"\n",
    "\n"
   ]
  },
  {
   "cell_type": "code",
   "execution_count": 104,
   "id": "fcacb2e5-1317-4b1c-a815-221b64b89270",
   "metadata": {},
   "outputs": [],
   "source": [
    "# 3\n",
    "# преобразовать каждую строку файла в объект класса Users и сохранить их все в списке. \n",
    "# Чтобы разделить слова, разделенные запятой, используйте функцию split(). \n",
    "# Например, если: s = \"a,b,c\", тогда t = s.split(',') вернет ['a', 'b', 'c']. \n",
    "# Таким образом разделите данные в каждой строке на отдельные части и присвойте\n",
    "# эти значения атрибутам класса «Users»."
   ]
  },
  {
   "cell_type": "code",
   "execution_count": 112,
   "id": "42bfc6c6-d632-48de-9e7e-3b1b76ace131",
   "metadata": {},
   "outputs": [
    {
     "name": "stdout",
     "output_type": "stream",
     "text": [
      " Magzhan Kairanbay, magzhan.kairanbay@gmail.com, 1991\n",
      " John See, john.see@gmail.com, 1981\n",
      " Lim Kim, lim.kim@gmail.com, 1997\n",
      " Andrew Ng, andrew.ng@gmail.com, 1971\n",
      " Andrey Karpathy, andrey.karpathy@gmail.com, 1981\n",
      " Jackie Chan, jeckie.chan@gmail.com, 1951\n",
      " Clarence Lim, clarence.lim@gmail.com, 1985\n",
      " Ryan Jack, ryan.jack@gmail.com, 1994\n",
      " Jonattan Clark, jonattan.clark@gmail.com, 2000\n",
      " Chris Brown, chris.brown@gmail.com, 1989\n",
      " Justin Bieber, justin.bieber@gmail.com, 1992\n"
     ]
    }
   ],
   "source": [
    "class Users:\n",
    "    current_date=2025\n",
    "    \n",
    "    def __init__(self, name, second_name, mail, birthdate):\n",
    "               \n",
    "        self.name = name\n",
    "        self.second_name = second_name        \n",
    "        self.mail = mail\n",
    "        self.birthdate = int(birthdate)\n",
    "\n",
    "    def get_age(self):\n",
    "        return self.current_date - self.birthdate\n",
    "\n",
    "    def __str__(self):        \n",
    "        return f\" {self.name} {self.second_name}, {self.mail}, {self.birthdate}\"\n",
    "\n",
    "users_list = []\n",
    "\n",
    "with open(\"Users.txt\", 'r') as file:\n",
    "    for line in file:\n",
    "        data =  line.split(',')      \n",
    "        if len(data) >= 5: \n",
    "            _, name, second_name, mail, birthdate = data\n",
    "            user = Users(name, second_name, mail, birthdate)\n",
    "            users_list.append(user)\n",
    "\n",
    "for user in users_list:\n",
    "    print(user)    \n"
   ]
  },
  {
   "cell_type": "code",
   "execution_count": 77,
   "id": "549ddd24-ec9a-4007-8a70-0e71e879ef30",
   "metadata": {},
   "outputs": [],
   "source": [
    "# 4 \n",
    "# Написать функцию filter(low, high, users), которая будет принимать параметры по умолчанию \n",
    "# low=30, high=50 и простой параметр - список объектов класса Users. \n",
    "# Функция должна пройтись по всем пользователям и проверить возраст с параметрами low и high. \n",
    "# Мы должны вернуть только тех пользователей, чей возраст выше нижнего параметра low и \n",
    "# ниже верхнего параметра high. Распечатайте их адрес электронной почты и возраст. \n",
    "# Пожалуйста, разделите данные (адрес электронной почты и возраст) запятой. Затем вызовите эту функцию."
   ]
  },
  {
   "cell_type": "code",
   "execution_count": 113,
   "id": "d4d147aa-62ac-4fc7-ba79-9a74a4768df0",
   "metadata": {},
   "outputs": [
    {
     "name": "stdout",
     "output_type": "stream",
     "text": [
      "magzhan.kairanbay@gmail.com,34\n",
      "john.see@gmail.com,44\n",
      "andrey.karpathy@gmail.com,44\n",
      "clarence.lim@gmail.com,40\n",
      "ryan.jack@gmail.com,31\n",
      "chris.brown@gmail.com,36\n",
      "justin.bieber@gmail.com,33\n"
     ]
    }
   ],
   "source": [
    "def filter_age(low=30, high=50, users=[]):\n",
    "    filtered_users = [] \n",
    "    for user in users: \n",
    "        age = user.get_age()  \n",
    "        if low < age < high:  \n",
    "            filtered_users.append((user.mail, age)) \n",
    "    return filtered_users\n",
    "    \n",
    "filtered = filter_age(users=users_list)\n",
    "\n",
    "for email, age in filtered:\n",
    "    print(f\"{email},{age}\")"
   ]
  },
  {
   "cell_type": "code",
   "execution_count": null,
   "id": "5d4de846-530c-4256-9ba6-9ed2675d199e",
   "metadata": {},
   "outputs": [],
   "source": []
  }
 ],
 "metadata": {
  "kernelspec": {
   "display_name": "Python 3 (ipykernel)",
   "language": "python",
   "name": "python3"
  },
  "language_info": {
   "codemirror_mode": {
    "name": "ipython",
    "version": 3
   },
   "file_extension": ".py",
   "mimetype": "text/x-python",
   "name": "python",
   "nbconvert_exporter": "python",
   "pygments_lexer": "ipython3",
   "version": "3.12.7"
  }
 },
 "nbformat": 4,
 "nbformat_minor": 5
}
